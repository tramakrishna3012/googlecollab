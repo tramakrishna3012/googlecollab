{
  "nbformat": 4,
  "nbformat_minor": 0,
  "metadata": {
    "colab": {
      "provenance": [],
      "cell_execution_strategy": "setup",
      "authorship_tag": "ABX9TyNhFUeVPDeT7Cc1Yq/kmPjg",
      "include_colab_link": true
    },
    "kernelspec": {
      "name": "python3",
      "display_name": "Python 3"
    },
    "language_info": {
      "name": "python"
    }
  },
  "cells": [
    {
      "cell_type": "markdown",
      "metadata": {
        "id": "view-in-github",
        "colab_type": "text"
      },
      "source": [
        "<a href=\"https://colab.research.google.com/github/tramakrishna3012/googlecollab/blob/main/fibonacciseries.ipynb\" target=\"_parent\"><img src=\"https://colab.research.google.com/assets/colab-badge.svg\" alt=\"Open In Colab\"/></a>"
      ]
    },
    {
      "cell_type": "code",
      "execution_count": 1,
      "metadata": {
        "colab": {
          "base_uri": "https://localhost:8080/"
        },
        "id": "Gq3IVDLUi51z",
        "outputId": "40610ac8-8d5d-4763-84c0-2083d88a8c4a"
      },
      "outputs": [
        {
          "output_type": "stream",
          "name": "stdout",
          "text": [
            "Hello python\n"
          ]
        }
      ],
      "source": [
        "print(\"Hello python\")"
      ]
    },
    {
      "cell_type": "code",
      "source": [
        "sub1=int(input(\"Enter the marks:\"))\n",
        "sub2=int(input(\"Enter the marks:\"))\n",
        "sub3=int(input(\"Enter the marks:\"))\n",
        "sub4=int(input(\"Enter the marks:\"))\n",
        "sub5=int(input(\"Enter the marks:\"))\n",
        "\n",
        "total= sub1+sub2+sub3+sub4+sub5\n",
        "df = (total/500)*100\n",
        "print(\"Total marks:\",total)\n",
        "print(f\"Percentage:{df}%\")\n",
        "if df>60:\n",
        "  print(\"First divsion\")\n",
        "elif 60>df>=33:\n",
        "  print(\"Second division\")\n",
        "else:\n",
        "  print(\"Fail\")"
      ],
      "metadata": {
        "colab": {
          "base_uri": "https://localhost:8080/"
        },
        "id": "XJteJ8FcjO7X",
        "outputId": "6709bb03-b353-4a6c-cb43-5955709ecea0"
      },
      "execution_count": 22,
      "outputs": [
        {
          "output_type": "stream",
          "name": "stdout",
          "text": [
            "Enter the marks:50\n",
            "Enter the marks:50\n",
            "Enter the marks:50\n",
            "Enter the marks:50\n",
            "Enter the marks:50\n",
            "Total marks: 250\n",
            "Percentage:50.0%\n",
            "Second division\n"
          ]
        }
      ]
    }
  ]
}